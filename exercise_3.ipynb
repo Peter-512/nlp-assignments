{
 "cells": [
  {
   "cell_type": "code",
   "execution_count": 6,
   "id": "initial_id",
   "metadata": {
    "collapsed": true,
    "ExecuteTime": {
     "end_time": "2024-01-08T07:57:02.208162Z",
     "start_time": "2024-01-08T07:57:01.136836Z"
    }
   },
   "outputs": [],
   "source": [
    "import spacy"
   ]
  },
  {
   "cell_type": "code",
   "execution_count": 7,
   "outputs": [],
   "source": [
    "nlp = spacy.load('en_core_web_sm')"
   ],
   "metadata": {
    "collapsed": false,
    "ExecuteTime": {
     "end_time": "2024-01-08T07:57:02.524156Z",
     "start_time": "2024-01-08T07:57:02.212177Z"
    }
   },
   "id": "33cd978a088028e7"
  },
  {
   "cell_type": "code",
   "execution_count": 3,
   "outputs": [],
   "source": [
    "text = \"\"\"This is an example text. We will use seven sentences and we will return 3. This blog is written by Yujian Tang. Yujian is the best software content creator. This is a software content blog focused on Python, your software career, and Machine Learning. Yujian's favorite ML subcategory is Natural Language Processing. This is the end of our example.\"\"\""
   ],
   "metadata": {
    "collapsed": false,
    "ExecuteTime": {
     "end_time": "2023-11-26T17:52:26.602119Z",
     "start_time": "2023-11-26T17:52:26.594512Z"
    }
   },
   "id": "73d2f011a72da57"
  },
  {
   "cell_type": "code",
   "execution_count": 4,
   "outputs": [],
   "source": [
    "doc = nlp(text)"
   ],
   "metadata": {
    "collapsed": false,
    "ExecuteTime": {
     "end_time": "2023-11-26T17:52:28.469958Z",
     "start_time": "2023-11-26T17:52:28.449370Z"
    }
   },
   "id": "f2ca60677c0d8cf3"
  },
  {
   "cell_type": "code",
   "execution_count": 10,
   "outputs": [],
   "source": [
    "dictionary = {}\n",
    "for word in doc:\n",
    "    word = word.text.lower()\n",
    "    if word in dictionary:\n",
    "        dictionary[word] += 1\n",
    "    else:\n",
    "        dictionary[word] = 1"
   ],
   "metadata": {
    "collapsed": false,
    "ExecuteTime": {
     "end_time": "2023-11-26T17:56:36.764691Z",
     "start_time": "2023-11-26T17:56:36.754806Z"
    }
   },
   "id": "ee2c9617ac1bb3f4"
  },
  {
   "cell_type": "code",
   "execution_count": 11,
   "outputs": [
    {
     "data": {
      "text/plain": "{'this': 4,\n 'is': 6,\n 'an': 1,\n 'example': 2,\n 'text': 1,\n '.': 7,\n 'we': 2,\n 'will': 2,\n 'use': 1,\n 'seven': 1,\n 'sentences': 1,\n 'and': 2,\n 'return': 1,\n '3': 1,\n 'blog': 2,\n 'written': 1,\n 'by': 1,\n 'yujian': 3,\n 'tang': 1,\n 'the': 2,\n 'best': 1,\n 'software': 3,\n 'content': 2,\n 'creator': 1,\n 'a': 1,\n 'focused': 1,\n 'on': 1,\n 'python': 1,\n ',': 2,\n 'your': 1,\n 'career': 1,\n 'machine': 1,\n 'learning': 1,\n \"'s\": 1,\n 'favorite': 1,\n 'ml': 1,\n 'subcategory': 1,\n 'natural': 1,\n 'language': 1,\n 'processing': 1,\n 'end': 1,\n 'of': 1,\n 'our': 1}"
     },
     "execution_count": 11,
     "metadata": {},
     "output_type": "execute_result"
    }
   ],
   "source": [
    "dictionary"
   ],
   "metadata": {
    "collapsed": false,
    "ExecuteTime": {
     "end_time": "2023-11-26T17:56:45.555461Z",
     "start_time": "2023-11-26T17:56:45.545833Z"
    }
   },
   "id": "d767a6e96b46444a"
  },
  {
   "cell_type": "code",
   "execution_count": 25,
   "outputs": [],
   "source": [
    "sents = []\n",
    "for i, sent in enumerate(doc.sents):\n",
    "    sent_score = 0\n",
    "    for word in sent:\n",
    "        word = word.text.lower()\n",
    "        sent_score += dictionary[word]\n",
    "    sents.append((sent.text.replace('\\n', ' '), sent_score/len(sent), i))"
   ],
   "metadata": {
    "collapsed": false,
    "ExecuteTime": {
     "end_time": "2023-11-26T18:08:03.308114Z",
     "start_time": "2023-11-26T18:08:03.301586Z"
    }
   },
   "id": "6d9601bf3c5f5be2"
  },
  {
   "cell_type": "code",
   "execution_count": 26,
   "outputs": [
    {
     "data": {
      "text/plain": "[('This is an example text.', 3.5, 0),\n ('We will use seven sentences and we will return 3.', 2.0, 1),\n ('This blog is written by Yujian Tang.', 3.125, 2),\n ('Yujian is the best software content creator.', 3.125, 3),\n ('This is a software content blog focused on Python, your software career, and Machine Learning.',\n  2.2777777777777777,\n  4),\n (\"Yujian's favorite ML subcategory is Natural Language Processing.\", 2.3, 5),\n ('This is the end of our example.', 3.0, 6)]"
     },
     "execution_count": 26,
     "metadata": {},
     "output_type": "execute_result"
    }
   ],
   "source": [
    "sents"
   ],
   "metadata": {
    "collapsed": false,
    "ExecuteTime": {
     "end_time": "2023-11-26T18:08:04.119400Z",
     "start_time": "2023-11-26T18:08:04.114383Z"
    }
   },
   "id": "af94dff811f53a26"
  },
  {
   "cell_type": "code",
   "execution_count": 27,
   "outputs": [
    {
     "data": {
      "text/plain": "[('This is an example text.', 3.5, 0),\n ('This blog is written by Yujian Tang.', 3.125, 2),\n ('Yujian is the best software content creator.', 3.125, 3)]"
     },
     "execution_count": 27,
     "metadata": {},
     "output_type": "execute_result"
    }
   ],
   "source": [
    "sents = sorted(sents, key=lambda x: -x[1])\n",
    "sents = sorted(sents[:3], key=lambda x: x[2])\n",
    "sents"
   ],
   "metadata": {
    "collapsed": false,
    "ExecuteTime": {
     "end_time": "2023-11-26T18:08:05.219041Z",
     "start_time": "2023-11-26T18:08:05.208154Z"
    }
   },
   "id": "814d096c7ad0f2bc"
  },
  {
   "cell_type": "code",
   "execution_count": 28,
   "outputs": [
    {
     "data": {
      "text/plain": "'This is an example text. This blog is written by Yujian Tang. Yujian is the best software content creator.'"
     },
     "execution_count": 28,
     "metadata": {},
     "output_type": "execute_result"
    }
   ],
   "source": [
    "summary = ' '.join([sent[0] for sent in sents])\n",
    "summary"
   ],
   "metadata": {
    "collapsed": false,
    "ExecuteTime": {
     "end_time": "2023-11-26T18:08:05.794981Z",
     "start_time": "2023-11-26T18:08:05.766329Z"
    }
   },
   "id": "cead4949ac8ec55f"
  },
  {
   "cell_type": "markdown",
   "source": [
    "To improve this very rudimentary summarizer (extractive summarization), we can do the following:\n",
    "1. Remove stop words from the dictionary"
   ],
   "metadata": {
    "collapsed": false
   },
   "id": "d85e8bcacd495a53"
  },
  {
   "cell_type": "markdown",
   "source": [
    "#### Summary theory\n",
    "\n",
    "1. **Extractive summarization** \n",
    "Attempts to identify significant sentences and then adds them to the summary, which will contain exact sentences from the original text.\n",
    "2. **Abstractive summarization**\n",
    "Attempts to identify important sections, interpret the context and intelligently generate a summary"
   ],
   "metadata": {
    "collapsed": false
   },
   "id": "802f55e168e08d05"
  },
  {
   "cell_type": "code",
   "execution_count": 9,
   "outputs": [],
   "source": [
    "from spacy.lang.en.stop_words import STOP_WORDS\n",
    "from heapq import nlargest"
   ],
   "metadata": {
    "collapsed": false,
    "ExecuteTime": {
     "end_time": "2024-01-08T07:57:12.429919Z",
     "start_time": "2024-01-08T07:57:12.412162Z"
    }
   },
   "id": "c9e0cd6df9586b74"
  },
  {
   "cell_type": "code",
   "execution_count": 30,
   "outputs": [],
   "source": [
    "text = \"\"\"\"In an attempt to build an AI-ready workforce, Microsoft announced Intelligent Cloud Hub which has been launched to empower the next generation of students with AI-ready skills. Envisioned as a three-year collaborative program, Intelligent Cloud Hub will support around 100 institutions with AI infrastructure, course content and curriculum, developer support, development tools and give students access to cloud and AI services. As part of the program, the Redmond giant which wants to expand its reach and is planning to build a strong developer ecosystem in India with the program will set up the core AI infrastructure and IoT Hub for the selected campuses. The company will provide AI development tools and Azure AI services such as Microsoft Cognitive Services, Bot Services and Azure Machine Learning.According to Manish Prakash, Country General Manager-PS, Health and Education, Microsoft India, said, With AI being the defining technology of our time, it is transforming lives and industry and the jobs of tomorrow will require a different skillset. This will require more collaborations and training and working with AI. That’s why it has become more critical than ever for educational institutions to integrate new cloud and AI technologies. The program is an attempt to ramp up the institutional set-up and build capabilities among the educators to educate the workforce of tomorrow. The program aims to build up the cognitive skills and in-depth understanding of developing intelligent cloud connected solutions for applications across industry. Earlier in April this year, the company announced Microsoft Professional Program In AI as a learning track open to the public. The program was developed to provide job ready skills to programmers who wanted to hone their skills in AI and data science with a series of online courses which featured hands-on labs and expert instructors as well. This program also included developer-focused AI school that provided a bunch of assets to help build AI skills.\"\"\""
   ],
   "metadata": {
    "collapsed": false,
    "ExecuteTime": {
     "end_time": "2023-11-26T19:54:54.013314Z",
     "start_time": "2023-11-26T19:54:53.987155Z"
    }
   },
   "id": "a4fa89c572737b71"
  },
  {
   "cell_type": "code",
   "execution_count": 31,
   "outputs": [],
   "source": [
    "doc = nlp(text)"
   ],
   "metadata": {
    "collapsed": false,
    "ExecuteTime": {
     "end_time": "2023-11-26T19:55:28.400964Z",
     "start_time": "2023-11-26T19:55:28.357077Z"
    }
   },
   "id": "13bd96202fd94c9d"
  },
  {
   "cell_type": "code",
   "execution_count": 34,
   "outputs": [],
   "source": [
    "tokens = [token.text for token in doc]\n",
    "freq = {}\n",
    "\n",
    "for token in doc:\n",
    "    if token.text.lower() not in STOP_WORDS and token.is_punct == False:\n",
    "        if token.text.lower() in freq.keys():\n",
    "            freq[token.text.lower()] += 1\n",
    "        else:\n",
    "            freq[token.text.lower()] = 1"
   ],
   "metadata": {
    "collapsed": false,
    "ExecuteTime": {
     "end_time": "2023-11-26T19:58:23.135444Z",
     "start_time": "2023-11-26T19:58:23.122167Z"
    }
   },
   "id": "c0f8219be71ea6df"
  },
  {
   "cell_type": "code",
   "execution_count": 35,
   "outputs": [
    {
     "data": {
      "text/plain": "{'attempt': 2,\n 'build': 5,\n 'ai': 14,\n 'ready': 3,\n 'workforce': 2,\n 'microsoft': 4,\n 'announced': 2,\n 'intelligent': 3,\n 'cloud': 5,\n 'hub': 3,\n 'launched': 1,\n 'empower': 1,\n 'generation': 1,\n 'students': 2,\n 'skills': 5,\n 'envisioned': 1,\n 'year': 2,\n 'collaborative': 1,\n 'program': 8,\n 'support': 2,\n '100': 1,\n 'institutions': 2,\n 'infrastructure': 2,\n 'course': 1,\n 'content': 1,\n 'curriculum': 1,\n 'developer': 3,\n 'development': 2,\n 'tools': 2,\n 'access': 1,\n 'services': 4,\n 'redmond': 1,\n 'giant': 1,\n 'wants': 1,\n 'expand': 1,\n 'reach': 1,\n 'planning': 1,\n 'strong': 1,\n 'ecosystem': 1,\n 'india': 2,\n 'set': 2,\n 'core': 1,\n 'iot': 1,\n 'selected': 1,\n 'campuses': 1,\n 'company': 2,\n 'provide': 2,\n 'azure': 2,\n 'cognitive': 2,\n 'bot': 1,\n 'machine': 1,\n 'learning': 2,\n 'according': 1,\n 'manish': 1,\n 'prakash': 1,\n 'country': 1,\n 'general': 1,\n 'manager': 1,\n 'ps': 1,\n 'health': 1,\n 'education': 1,\n 'said': 1,\n 'defining': 1,\n 'technology': 1,\n 'time': 1,\n 'transforming': 1,\n 'lives': 1,\n 'industry': 2,\n 'jobs': 1,\n 'tomorrow': 2,\n 'require': 2,\n 'different': 1,\n 'skillset': 1,\n 'collaborations': 1,\n 'training': 1,\n 'working': 1,\n 'critical': 1,\n 'educational': 1,\n 'integrate': 1,\n 'new': 1,\n 'technologies': 1,\n 'ramp': 1,\n 'institutional': 1,\n 'capabilities': 1,\n 'educators': 1,\n 'educate': 1,\n 'aims': 1,\n 'depth': 1,\n 'understanding': 1,\n 'developing': 1,\n 'connected': 1,\n 'solutions': 1,\n 'applications': 1,\n 'earlier': 1,\n 'april': 1,\n 'professional': 1,\n 'track': 1,\n 'open': 1,\n 'public': 1,\n 'developed': 1,\n 'job': 1,\n 'programmers': 1,\n 'wanted': 1,\n 'hone': 1,\n 'data': 1,\n 'science': 1,\n 'series': 1,\n 'online': 1,\n 'courses': 1,\n 'featured': 1,\n 'hands': 1,\n 'labs': 1,\n 'expert': 1,\n 'instructors': 1,\n 'included': 1,\n 'focused': 1,\n 'school': 1,\n 'provided': 1,\n 'bunch': 1,\n 'assets': 1,\n 'help': 1}"
     },
     "execution_count": 35,
     "metadata": {},
     "output_type": "execute_result"
    }
   ],
   "source": [
    "freq"
   ],
   "metadata": {
    "collapsed": false,
    "ExecuteTime": {
     "end_time": "2023-11-26T19:58:23.581855Z",
     "start_time": "2023-11-26T19:58:23.576820Z"
    }
   },
   "id": "8fbc8537a0ae4f6a"
  },
  {
   "cell_type": "code",
   "execution_count": 36,
   "outputs": [],
   "source": [
    "max_freq = max(freq.values())\n",
    "for token in freq.keys():\n",
    "    freq[token] = freq[token]/max_freq"
   ],
   "metadata": {
    "collapsed": false,
    "ExecuteTime": {
     "end_time": "2023-11-26T20:00:01.014008Z",
     "start_time": "2023-11-26T20:00:00.990938Z"
    }
   },
   "id": "803103b18b87c210"
  },
  {
   "cell_type": "code",
   "execution_count": 37,
   "outputs": [
    {
     "data": {
      "text/plain": "{'attempt': 0.14285714285714285,\n 'build': 0.35714285714285715,\n 'ai': 1.0,\n 'ready': 0.21428571428571427,\n 'workforce': 0.14285714285714285,\n 'microsoft': 0.2857142857142857,\n 'announced': 0.14285714285714285,\n 'intelligent': 0.21428571428571427,\n 'cloud': 0.35714285714285715,\n 'hub': 0.21428571428571427,\n 'launched': 0.07142857142857142,\n 'empower': 0.07142857142857142,\n 'generation': 0.07142857142857142,\n 'students': 0.14285714285714285,\n 'skills': 0.35714285714285715,\n 'envisioned': 0.07142857142857142,\n 'year': 0.14285714285714285,\n 'collaborative': 0.07142857142857142,\n 'program': 0.5714285714285714,\n 'support': 0.14285714285714285,\n '100': 0.07142857142857142,\n 'institutions': 0.14285714285714285,\n 'infrastructure': 0.14285714285714285,\n 'course': 0.07142857142857142,\n 'content': 0.07142857142857142,\n 'curriculum': 0.07142857142857142,\n 'developer': 0.21428571428571427,\n 'development': 0.14285714285714285,\n 'tools': 0.14285714285714285,\n 'access': 0.07142857142857142,\n 'services': 0.2857142857142857,\n 'redmond': 0.07142857142857142,\n 'giant': 0.07142857142857142,\n 'wants': 0.07142857142857142,\n 'expand': 0.07142857142857142,\n 'reach': 0.07142857142857142,\n 'planning': 0.07142857142857142,\n 'strong': 0.07142857142857142,\n 'ecosystem': 0.07142857142857142,\n 'india': 0.14285714285714285,\n 'set': 0.14285714285714285,\n 'core': 0.07142857142857142,\n 'iot': 0.07142857142857142,\n 'selected': 0.07142857142857142,\n 'campuses': 0.07142857142857142,\n 'company': 0.14285714285714285,\n 'provide': 0.14285714285714285,\n 'azure': 0.14285714285714285,\n 'cognitive': 0.14285714285714285,\n 'bot': 0.07142857142857142,\n 'machine': 0.07142857142857142,\n 'learning': 0.14285714285714285,\n 'according': 0.07142857142857142,\n 'manish': 0.07142857142857142,\n 'prakash': 0.07142857142857142,\n 'country': 0.07142857142857142,\n 'general': 0.07142857142857142,\n 'manager': 0.07142857142857142,\n 'ps': 0.07142857142857142,\n 'health': 0.07142857142857142,\n 'education': 0.07142857142857142,\n 'said': 0.07142857142857142,\n 'defining': 0.07142857142857142,\n 'technology': 0.07142857142857142,\n 'time': 0.07142857142857142,\n 'transforming': 0.07142857142857142,\n 'lives': 0.07142857142857142,\n 'industry': 0.14285714285714285,\n 'jobs': 0.07142857142857142,\n 'tomorrow': 0.14285714285714285,\n 'require': 0.14285714285714285,\n 'different': 0.07142857142857142,\n 'skillset': 0.07142857142857142,\n 'collaborations': 0.07142857142857142,\n 'training': 0.07142857142857142,\n 'working': 0.07142857142857142,\n 'critical': 0.07142857142857142,\n 'educational': 0.07142857142857142,\n 'integrate': 0.07142857142857142,\n 'new': 0.07142857142857142,\n 'technologies': 0.07142857142857142,\n 'ramp': 0.07142857142857142,\n 'institutional': 0.07142857142857142,\n 'capabilities': 0.07142857142857142,\n 'educators': 0.07142857142857142,\n 'educate': 0.07142857142857142,\n 'aims': 0.07142857142857142,\n 'depth': 0.07142857142857142,\n 'understanding': 0.07142857142857142,\n 'developing': 0.07142857142857142,\n 'connected': 0.07142857142857142,\n 'solutions': 0.07142857142857142,\n 'applications': 0.07142857142857142,\n 'earlier': 0.07142857142857142,\n 'april': 0.07142857142857142,\n 'professional': 0.07142857142857142,\n 'track': 0.07142857142857142,\n 'open': 0.07142857142857142,\n 'public': 0.07142857142857142,\n 'developed': 0.07142857142857142,\n 'job': 0.07142857142857142,\n 'programmers': 0.07142857142857142,\n 'wanted': 0.07142857142857142,\n 'hone': 0.07142857142857142,\n 'data': 0.07142857142857142,\n 'science': 0.07142857142857142,\n 'series': 0.07142857142857142,\n 'online': 0.07142857142857142,\n 'courses': 0.07142857142857142,\n 'featured': 0.07142857142857142,\n 'hands': 0.07142857142857142,\n 'labs': 0.07142857142857142,\n 'expert': 0.07142857142857142,\n 'instructors': 0.07142857142857142,\n 'included': 0.07142857142857142,\n 'focused': 0.07142857142857142,\n 'school': 0.07142857142857142,\n 'provided': 0.07142857142857142,\n 'bunch': 0.07142857142857142,\n 'assets': 0.07142857142857142,\n 'help': 0.07142857142857142}"
     },
     "execution_count": 37,
     "metadata": {},
     "output_type": "execute_result"
    }
   ],
   "source": [
    "freq"
   ],
   "metadata": {
    "collapsed": false,
    "ExecuteTime": {
     "end_time": "2023-11-26T20:00:03.232397Z",
     "start_time": "2023-11-26T20:00:03.214609Z"
    }
   },
   "id": "ec44f0fd20c8515b"
  },
  {
   "cell_type": "code",
   "execution_count": 38,
   "outputs": [],
   "source": [
    "sent_tokens = [sent for sent in doc.sents]\n",
    "sent_scores = {}\n",
    "for sent in sent_tokens:\n",
    "    for word in sent:\n",
    "        word = word.text.lower()\n",
    "        if word in freq.keys():\n",
    "            if sent in sent_scores.keys():\n",
    "                sent_scores[sent] += freq[word]\n",
    "            else:\n",
    "                sent_scores[sent] = freq[word]"
   ],
   "metadata": {
    "collapsed": false,
    "ExecuteTime": {
     "end_time": "2023-11-26T20:01:46.852970Z",
     "start_time": "2023-11-26T20:01:46.824391Z"
    }
   },
   "id": "13ea6f65e9a311ad"
  },
  {
   "cell_type": "code",
   "execution_count": 39,
   "outputs": [
    {
     "data": {
      "text/plain": "{\"In an attempt to build an AI-ready workforce, Microsoft announced Intelligent Cloud Hub which has been launched to empower the next generation of students with AI-ready skills.: 5.0,\n Envisioned as a three-year collaborative program, Intelligent Cloud Hub will support around 100 institutions with AI infrastructure, course content and curriculum, developer support, development tools and give students access to cloud and AI services.: 5.857142857142858,\n As part of the program, the Redmond giant which wants to expand its reach and is planning to build a strong developer ecosystem in India with the program will set up the core AI infrastructure and IoT Hub for the selected campuses.: 4.2142857142857135,\n The company will provide AI development tools and Azure AI services such as Microsoft Cognitive Services, Bot Services and Azure Machine Learning.: 4.428571428571429,\n According to Manish Prakash, Country General Manager-PS, Health and Education, Microsoft India, said, With AI being the defining technology of our time, it is transforming lives and industry and the jobs of tomorrow will require a different skillset.: 3.1428571428571437,\n This will require more collaborations and training and working with AI.: 1.3571428571428572,\n That’s why it has become more critical than ever for educational institutions to integrate new cloud and AI technologies.: 1.857142857142857,\n The program is an attempt to ramp up the institutional set-up and build capabilities among the educators to educate the workforce of tomorrow.: 1.8571428571428568,\n The program aims to build up the cognitive skills and in-depth understanding of developing intelligent cloud connected solutions for applications across industry.: 2.6428571428571432,\n Earlier in April this year, the company announced Microsoft Professional Program: 1.5,\n In AI as a learning track open to the public.: 1.357142857142857,\n The program was developed to provide job ready skills to programmers who wanted to hone their skills in AI and data science with a series of online courses which featured hands-on labs and expert instructors as well.: 3.714285714285716,\n This program also included developer-focused AI school that provided a bunch of assets to help build AI skills.: 4.0}"
     },
     "execution_count": 39,
     "metadata": {},
     "output_type": "execute_result"
    }
   ],
   "source": [
    "sent_scores"
   ],
   "metadata": {
    "collapsed": false,
    "ExecuteTime": {
     "end_time": "2023-11-26T20:01:53.730175Z",
     "start_time": "2023-11-26T20:01:53.713844Z"
    }
   },
   "id": "3ee243f943fc3228"
  },
  {
   "cell_type": "code",
   "execution_count": 3,
   "outputs": [],
   "source": [
    "def summarize(text: str, percentage: float) -> str:\n",
    "    if percentage > 1:\n",
    "        raise ValueError(\"Percentage should be a float between 0 and 1\")\n",
    "    doc = nlp(text)\n",
    "    freq = {}\n",
    "\n",
    "    for token in doc:\n",
    "        if token.text.lower() not in STOP_WORDS and token.is_punct == False:\n",
    "            if token.text.lower() in freq.keys():\n",
    "                freq[token.text.lower()] += 1\n",
    "            else:\n",
    "                freq[token.text.lower()] = 1\n",
    "\n",
    "    max_freq = max(freq.values())\n",
    "    for token in freq.keys():\n",
    "        freq[token] = freq[token]/max_freq\n",
    "\n",
    "    sent_tokens = [sent for sent in doc.sents]\n",
    "    sent_scores = {}\n",
    "    for sent in sent_tokens:\n",
    "        for word in sent:\n",
    "            word = word.text.lower()\n",
    "            if word in freq.keys():\n",
    "                if sent in sent_scores.keys():\n",
    "                    sent_scores[sent] += freq[word]\n",
    "                else:\n",
    "                    sent_scores[sent] = freq[word]\n",
    "\n",
    "    select_length = int(len(sent_tokens)*percentage)\n",
    "    summary = nlargest(select_length, sent_scores, key=sent_scores.get)\n",
    "    summary = sorted(summary, key=lambda sentence: sentence.start)\n",
    "    final_summary = [word.text for word in summary]\n",
    "    summary = ' '.join(final_summary)\n",
    "    return summary"
   ],
   "metadata": {
    "collapsed": false,
    "ExecuteTime": {
     "end_time": "2024-01-08T07:56:24.819982Z",
     "start_time": "2024-01-08T07:56:24.813319Z"
    }
   },
   "id": "8275f4797711d77a"
  },
  {
   "cell_type": "code",
   "execution_count": 58,
   "outputs": [
    {
     "data": {
      "text/plain": "'\"In an attempt to build an AI-ready workforce, Microsoft announced Intelligent Cloud Hub which has been launched to empower the next generation of students with AI-ready skills. Envisioned as a three-year collaborative program, Intelligent Cloud Hub will support around 100 institutions with AI infrastructure, course content and curriculum, developer support, development tools and give students access to cloud and AI services. The company will provide AI development tools and Azure AI services such as Microsoft Cognitive Services, Bot Services and Azure Machine Learning.'"
     },
     "execution_count": 58,
     "metadata": {},
     "output_type": "execute_result"
    }
   ],
   "source": [
    "summarize(text, 0.3)"
   ],
   "metadata": {
    "collapsed": false,
    "ExecuteTime": {
     "end_time": "2023-11-26T20:30:21.043391Z",
     "start_time": "2023-11-26T20:30:21.014570Z"
    }
   },
   "id": "c047659f9e707870"
  },
  {
   "cell_type": "code",
   "execution_count": 59,
   "outputs": [
    {
     "data": {
      "text/plain": "'\"In an attempt to build an AI-ready workforce, Microsoft announced Intelligent Cloud Hub which has been launched to empower the next generation of students with AI-ready skills. Envisioned as a three-year collaborative program, Intelligent Cloud Hub will support around 100 institutions with AI infrastructure, course content and curriculum, developer support, development tools and give students access to cloud and AI services.'"
     },
     "execution_count": 59,
     "metadata": {},
     "output_type": "execute_result"
    }
   ],
   "source": [
    "summarize(text, 0.2)"
   ],
   "metadata": {
    "collapsed": false,
    "ExecuteTime": {
     "end_time": "2023-11-26T20:30:21.451307Z",
     "start_time": "2023-11-26T20:30:21.435344Z"
    }
   },
   "id": "6efd63f66aa727b6"
  },
  {
   "cell_type": "markdown",
   "source": [
    "### Abstractive summarization"
   ],
   "metadata": {
    "collapsed": false
   },
   "id": "f7562bbc3085b9e1"
  },
  {
   "cell_type": "code",
   "execution_count": 1,
   "outputs": [],
   "source": [
    "from newspaper import Article"
   ],
   "metadata": {
    "collapsed": false,
    "ExecuteTime": {
     "end_time": "2024-01-08T07:55:00.430968Z",
     "start_time": "2024-01-08T07:55:00.265316Z"
    }
   },
   "id": "5f1a00a757eafaf0"
  },
  {
   "cell_type": "code",
   "execution_count": 61,
   "outputs": [
    {
     "data": {
      "text/plain": "'Many of the countries that have sanctioned Russia over the war in Ukraine need to take urgent action to disrupt the supply of technology for its electronic warfare campaign, according to a new report.\\n\\nThe dossier compiled by Ukraine and circulated to the major countries which have imposed sanctions identifies key Russian firms involved in the development and production of electronic military equipment. It says the UK and other countries have not yet sanctioned some of the firms involved.\\n\\nIt identified what it claims is technology made by British firms in some of the advanced electronic equipment engaged in the conflict, and says more effective action is required to block the use of foreign components.\\n\\nThe report states: “The effectiveness of Russian electronic systems largely depends on access to imported components that are widely used in the production of such systems ... Specific steps should be taken immediately to reduce the Russian military-industrial complex’s capability.”\\n\\nSenior military commanders in Ukraine are concerned at recent advances by Russia in the electronic warfare battle. In a recent article in the Economist, Valery Zaluzhny, commander-in-chief of Ukraine’s armed forces, wrote: “[Electronic warfare] is the key to victory in the drone war.\\n\\n“Russia modernised its [electronic warfare] forces over the past decade, creating a new branch of its army and building 60 new types of equipment. It outdoes us in this area: 65% of our jamming platforms at the start of the war were produced in Soviet times.”\\n\\nThe new Ukrainian report says that, in addition to jamming equipment, electronic intelligence systems can detect drone launches and predict possible military action. Specialised radar equipment can be used to track drones.\\n\\nEight key Russian firms are involved in the production of electronic warfare, the report says. They include the entities Strela Research and Production Association, Protek Research and Development Enterprise and Radioelectronic Technologies Concern, which it says have not been sanctioned by the UK.\\n\\nIt also names components from British firms which it says have been found in Russian electronic warfare. The companies involved say they have ceased all trading with Russia.\\n\\nAccording to the report, transistors from Semelab Ltd, which has its registered office in Woking, Surrey, and is owned by TT Electronic Group Holdings, were found in equipment to block radio-controlled devices and communication on the battlefield. Power supply equipment from XP Power, which has its HQ in Singapore and is listed on the London Stock Exchange, was found in mobile short-range radar. And parts allegedly manufactured by Golledge Electronics, based in Ilminster, Somerset, were found in a direction-finding system.\\n\\nA spokesperson for TT Electronics said: “Since Russia’s invasion of Ukraine, TT Electronics has adopted a total prohibition on all sales to any Russian entities. Due to the nature of international supply chains, once a product is sold it may then be sold on many times prior to its end-use. Such onward sales and end-use are not within the manufacturer’s control.\\n\\n“TT Electronics acts in compliance with all export control laws and regulations and operates a detailed export control compliance programme.” The relevant components cited in the report are not designed for military use.\\n\\nXP Power said it had a small distributor in Russia which it ceased trading with in 2022. It said the parts identified in the report were manufactured by a partner and supplied before the Ukraine invasion.\\n\\nThe company said: “XP has done no business in Russia since February 2022 and operates in full compliance of the sanctions.”\\n\\nGolledge Electronics said it stopped all business with its Russian distributor in February 2022. It said it had not supplied any components to the Russian distributor since 2021, and since 2016 every shipment was subject to clearance by the UK government. The firm said it was unlikely the components identified in the report were genuine since the marked code number “does not tally with any Golledge product”.\\n\\nThe report says sanctions should be imposed on the Russian firms identified. It also proposes a “unified database of components” identifying the technology which the Russian military is using in its electronic warfare equipment.\\n\\nOfficials at the Foreign, Commonwealth and Development Office say they have prohibited the exports and supply to Russia of thousands of products, banning all items found on the battlefield. The UK recently acted to disrupt a covert procurement network used by Russia to acquire critical western technology.'"
     },
     "execution_count": 61,
     "metadata": {},
     "output_type": "execute_result"
    }
   ],
   "source": [
    "url = 'https://www.theguardian.com/world/2023/nov/26/russia-wages-electronic-warfare-using-uk-made-tech-ukraine-dossier-claims'\n",
    "article = Article(url)\n",
    "article.download()\n",
    "article.parse()\n",
    "article.text"
   ],
   "metadata": {
    "collapsed": false,
    "ExecuteTime": {
     "end_time": "2023-11-26T20:54:21.177531Z",
     "start_time": "2023-11-26T20:54:20.955385Z"
    }
   },
   "id": "ec53e46a11d8d1ca"
  },
  {
   "cell_type": "code",
   "execution_count": 65,
   "outputs": [
    {
     "data": {
      "text/plain": "'Many of the countries that have sanctioned Russia over the war in Ukraine need to take urgent action to disrupt the supply of technology for its electronic warfare campaign, according to a new report. The dossier compiled by Ukraine and circulated to the major countries which have imposed sanctions identifies key Russian firms involved in the development and production of electronic military equipment. They include the entities Strela Research and Production Association, Protek Research and Development Enterprise and Radioelectronic Technologies Concern, which it says have not been sanctioned by the UK.It also names components from British firms which it says have been found in Russian electronic warfare.'"
     },
     "execution_count": 65,
     "metadata": {},
     "output_type": "execute_result"
    }
   ],
   "source": [
    "summarize(article.text.replace(\"\\n\", ''), 0.1)"
   ],
   "metadata": {
    "collapsed": false,
    "ExecuteTime": {
     "end_time": "2023-11-26T20:57:28.007372Z",
     "start_time": "2023-11-26T20:57:27.959453Z"
    }
   },
   "id": "3709eb5f07e225d1"
  },
  {
   "cell_type": "code",
   "execution_count": 2,
   "outputs": [
    {
     "data": {
      "text/plain": "'„Er wurde auf Anordnung der Staatsanwaltschaft enthaftet“, teilte Florian Kreiner, der Verteidiger des 47-jährigen Tschetschenen, am Sonntagabend mit. Die Staatsanwaltschaft Wien bestätigte das auf APA-Anfrage. Die Anordnung sei erlassen worden, „weil sich der dringende Tatverdacht nicht erhärtet hat“, wie Behördensprecherin Nina Bussek feststellte.\\n\\nVerteidiger: „Von Anfang an kein Beweis“\\n\\nUrsprünglich hatte es geheißen, der bisher unbescholtene Familienvater habe gemeinsam mit einem 28-jährigen Tadschiken und dessen 27 Jahre alter Ehefrau, die seit 2022 in Wien lebten, einem länderübergreifenden radikalislamischen Terrornetzwerk angehört, das Anschläge in Deutschland und in Wien erwogen haben soll. Die Staatsanwaltschaft Wien ermittelt gegen die mutmaßliche Zelle der Terrorgruppe Islamischer Staat Provinz Khorasan (ISPK) wegen terroristischer Vereinigung (§ 278b StGB) in Verbindung mit terroristischen Straftaten (§ 278c StGB).\\n\\nDer 28 Jahre alte Tadschike und seine Ehefrau befinden sich weiter in U-Haft. Ob diese verlängert wird, entscheidet am Montag das Landesgericht für Strafsachen in einer Haftprüfung.\\n\\nIm Zuge einer Hausdurchsuchung waren bei den vor Weihnachten in Wien festgenommenen mutmaßlichen Islamisten, die die gegen sie erhobenen Vorwürfe abstreiten, 14 Mobiltelefone sichergestellt worden, die seither ausgewertet werden. In Bezug auf den 47-Jährigen habe es „von Anfang an kein einziges Beweismittel gegeben“, betonte dessen Verteidiger. „Er ist nur deshalb festgenommen worden, weil er in der Flüchtlingsunterkunft zufällig direkt neben dem 28 Jahre alten Tadschiken gewohnt hat“, sagte Anwalt Kreiner.\\n\\nVerdächtiger nach Terroralarm freigelassen Einer von drei verdächtigen Dschihadisten, die vor Weihnachten in einer Flüchtlingsunterkunft in Wien-Ottakring wegen Anschlagsplänen auf den Stephansdom verhaftet wurden, ist seit Freitag wieder auf freiem Fuß. Zwei tadschikische Islamisten bleiben weiter in Haft, ein weiterer terrorverdächtiger Tadschike derselben Terrorzelle wurde in Deutschland verhaftet.\\n\\nFestnahmen in Ottakringer Flüchtlingsheim\\n\\n„Die Staatsanwaltschaft hätte nie die U-Haft beantragen, das Landesgericht für Strafsachen diesen Antrag nie genehmigen dürfen“, meinte Kreiner. Der Tschetschene sei ohne Auflagen enthaftet worden – offenbar sei auch die Staatsanwaltschaft zum Schluss gekommen, dass dieser nicht an einem konspirativen Treffen in der Flüchtlingsunterkunft teilgenommen habe.\\n\\nZu einem solchen dürfte es am 8. Dezember 2023 in der Wiener Flüchtlingsunterkunft gekommen sein, in der später die Festnahmen erfolgten. Federführend an dem Treffen nahm ein 30 Jahre alter Tadschike teil, der aus Deutschland angereist war und der später den Stephansdom in einer für Touristen untypischen Weise filmte, auf Überwachungskameras überprüfte und das Gemäuer abklopfte.\\n\\nDer 30-Jährige, der dem deutschen Verfassungsschutz schon seit Längerem bekannt war und der daher observiert wurde, soll bis zum 20. Dezember mehrmals den in dem Ottakringer Flüchtlingsheim gemeldeten 28-Jährigen sowie dessen türkischstämmige Ehefrau und womöglich weitere Beteiligte getroffen haben.\\n\\nVerdächtiger soll ausgeliefert werden\\n\\nDer 30-Jährige war auf Basis eines von der Staatsanwaltschaft Wien beantragten Europäischen Haftbefehls am 24. Dezember in Wesel festgesetzt worden. Die Sprecherin der Wiener Anklagebehörde bestätigte der APA, dass in Bezug auf den 30 Jahre alten Tadschiken ein Auslieferungsverfahren in die Wege geleitet wurde. Der Mann befindet sich derzeit in der Justizvollzugsanstalt Köln. Das Auslieferungsverfahren ist bei der Generalstaatsanwaltschaft Köln anhängig, teilte die Kölner Polizei am Sonntag mit.'"
     },
     "execution_count": 2,
     "metadata": {},
     "output_type": "execute_result"
    }
   ],
   "source": [
    "url = 'https://wien.orf.at/stories/3239608/'\n",
    "article = Article(url)\n",
    "article.download()\n",
    "article.parse()\n",
    "article.text"
   ],
   "metadata": {
    "collapsed": false,
    "ExecuteTime": {
     "end_time": "2024-01-08T07:55:50.027215Z",
     "start_time": "2024-01-08T07:55:49.818366Z"
    }
   },
   "id": "cd1be6b2286ec030"
  },
  {
   "cell_type": "code",
   "outputs": [
    {
     "data": {
      "text/plain": "'Verteidiger: „Von Anfang an kein Beweis“Ursprünglich hatte es geheißen, der bisher unbescholtene Familienvater habe gemeinsam mit einem 28-jährigen Tadschiken und dessen 27 Jahre alter Ehefrau, die seit 2022 in Wien lebten, einem länderübergreifenden radikalislamischen Terrornetzwerk angehört, das Anschläge in Deutschland und in Wien erwogen haben soll.'"
     },
     "execution_count": 10,
     "metadata": {},
     "output_type": "execute_result"
    }
   ],
   "source": [
    "article.text\n",
    "summarize(article.text.replace(\"\\n\", ''), 0.05)"
   ],
   "metadata": {
    "collapsed": false,
    "ExecuteTime": {
     "end_time": "2024-01-08T07:57:20.164981Z",
     "start_time": "2024-01-08T07:57:20.110221Z"
    }
   },
   "id": "f77efa82ae60d52",
   "execution_count": 10
  },
  {
   "cell_type": "code",
   "outputs": [],
   "source": [],
   "metadata": {
    "collapsed": false
   },
   "id": "9e20b025fe5fcba8"
  }
 ],
 "metadata": {
  "kernelspec": {
   "display_name": "Python 3",
   "language": "python",
   "name": "python3"
  },
  "language_info": {
   "codemirror_mode": {
    "name": "ipython",
    "version": 2
   },
   "file_extension": ".py",
   "mimetype": "text/x-python",
   "name": "python",
   "nbconvert_exporter": "python",
   "pygments_lexer": "ipython2",
   "version": "2.7.6"
  }
 },
 "nbformat": 4,
 "nbformat_minor": 5
}
